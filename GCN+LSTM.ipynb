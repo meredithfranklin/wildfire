{
 "cells": [
  {
   "cell_type": "code",
   "execution_count": 14,
   "id": "750046e0",
   "metadata": {},
   "outputs": [],
   "source": [
    "import pandas as pd\n",
    "import numpy as np\n",
    "from matplotlib import pyplot as plt\n",
    "import matplotlib.cbook as cbook\n",
    "import torch\n",
    "from torch import nn\n",
    "import torch.optim as optim\n",
    "import torch.nn.functional as F\n",
    "from torch_geometric.nn import GCNConv\n",
    "from torch_geometric.utils import dense_to_sparse\n",
    "from sklearn.metrics import mean_absolute_error as mae\n",
    "from sklearn.metrics import mean_absolute_percentage_error as mape\n",
    "from sklearn.metrics import mean_squared_error as mse\n",
    "from sklearn.metrics import r2_score\n",
    "from sklearn.metrics.pairwise import haversine_distances\n",
    "from sklearn.neighbors import NearestNeighbors\n",
    "from sklearn.model_selection import GridSearchCV, train_test_split\n",
    "from skorch import NeuralNetRegressor\n",
    "import itertools\n",
    "import pickle\n",
    "\n",
    "# === 1. GCN-LSTM Model ===\n",
    "class GCN_LSTM_Masked_Time(nn.Module):\n",
    "    def __init__(self, in_channels, hidden_dim, lstm_hidden_dim, out_dim):\n",
    "        super().__init__()\n",
    "        self.gcn = GCNConv(in_channels, hidden_dim)\n",
    "        self.lstm = nn.LSTM(hidden_dim, lstm_hidden_dim, batch_first=True)\n",
    "        self.fc = nn.Linear(lstm_hidden_dim, out_dim)\n",
    "\n",
    "    def forward(self, x, edge_index, mask=None):\n",
    "        B, T, N, feat_dim = x.size()   # renamed from F to feat_dim\n",
    "        gcn_outputs = []\n",
    "\n",
    "        for t in range(T):\n",
    "            x_t = x[:, t, :, :].reshape(B * N, feat_dim)\n",
    "            gcn_out = self.gcn(x_t, edge_index)\n",
    "            gcn_out = F.relu(gcn_out)\n",
    "            gcn_out = gcn_out.view(B, N, -1)\n",
    "            gcn_outputs.append(gcn_out)\n",
    "\n",
    "        gcn_outputs = torch.stack(gcn_outputs, dim=1)\n",
    "        lstm_input = gcn_outputs.permute(0, 2, 1, 3).contiguous().view(B * N, T, -1)\n",
    "        lstm_out, _ = self.lstm(lstm_input)\n",
    "        out = self.fc(lstm_out).view(B, N, T, -1)\n",
    "        return out.permute(0, 2, 1, 3).squeeze(-1)"
   ]
  },
  {
   "cell_type": "code",
   "execution_count": 2,
   "id": "7bd117ca",
   "metadata": {},
   "outputs": [],
   "source": [
    "def split_features_target(data_np, target_index):\n",
    "    T, N, F = data_np.shape\n",
    "    assert 0 <= target_index < F\n",
    "    y = data_np[:, :, target_index]                    # [T, N]\n",
    "    x = np.delete(data_np, target_index, axis=-1)      # [T, N, F-1]\n",
    "    return x, y"
   ]
  },
  {
   "cell_type": "code",
   "execution_count": 3,
   "id": "6d59d409",
   "metadata": {},
   "outputs": [],
   "source": [
    "def build_input_target_rolling(data_np, target_np, seq_len, mask_np=None):\n",
    "    T, N, F = data_np.shape\n",
    "    num_windows = T - seq_len + 1\n",
    "    x, y, mask = [], [], []\n",
    "\n",
    "    for t in range(num_windows):\n",
    "        x_t = data_np[t:t+seq_len]\n",
    "        y_t = target_np[t:t+seq_len]\n",
    "\n",
    "        if mask_np is not None:\n",
    "            mask_t = mask_np[t:t+seq_len]\n",
    "        else:\n",
    "            mask_t = ~np.isnan(y_t) & ~np.isnan(x_t[:, :, 0])\n",
    "            mask_t = mask_t.astype(np.float32)\n",
    "\n",
    "        x.append(np.nan_to_num(x_t, nan=0.0))\n",
    "        y.append(np.nan_to_num(y_t, nan=0.0))\n",
    "        mask.append(mask_t)\n",
    "\n",
    "    return np.stack(x), np.stack(y), np.stack(mask)  # [B, T, N, F], [B, T, N], [B, T, N]"
   ]
  },
  {
   "cell_type": "code",
   "execution_count": 4,
   "id": "0c98bc8b",
   "metadata": {},
   "outputs": [],
   "source": [
    "def train_time(model, x, y, mask, edge_index, num_epochs=10, lr=1e-3):\n",
    "    optimizer = torch.optim.Adam(model.parameters(), lr=lr)\n",
    "    loss_fn = nn.MSELoss(reduction='none')\n",
    "\n",
    "    for epoch in range(num_epochs):\n",
    "        model.train()\n",
    "        optimizer.zero_grad()\n",
    "\n",
    "        x_t = torch.tensor(x).float()\n",
    "        y_t = torch.tensor(y).float()\n",
    "        mask_t = torch.tensor(mask).float()\n",
    "\n",
    "        pred = model(x_t, edge_index, mask_t)  # [B, T, N]\n",
    "        loss = loss_fn(pred, y_t) * mask_t\n",
    "        loss = loss.sum() / mask_t.sum()\n",
    "\n",
    "        loss.backward()\n",
    "        optimizer.step()\n",
    "        print(f\"Epoch {epoch+1}/{num_epochs}, Loss: {loss.item():.4f}\")"
   ]
  },
  {
   "cell_type": "code",
   "execution_count": 5,
   "id": "bad40a07",
   "metadata": {},
   "outputs": [],
   "source": [
    "def evaluate_mse_time(model, x, y, mask, edge_index, device='cpu'):\n",
    "    model.eval()\n",
    "    model.to(device)\n",
    "\n",
    "    with torch.no_grad():\n",
    "        x_t = torch.tensor(x).float().to(device)\n",
    "        y_t = torch.tensor(y).float().to(device)\n",
    "        mask_t = torch.tensor(mask).float().to(device)\n",
    "\n",
    "        pred = model(x_t, edge_index, mask_t)\n",
    "        mse = (((pred - y_t) ** 2) * mask_t).sum() / mask_t.sum()\n",
    "    return mse.item()"
   ]
  },
  {
   "cell_type": "code",
   "execution_count": 6,
   "id": "9263e02b",
   "metadata": {},
   "outputs": [],
   "source": [
    "df = pd.read_csv(\"bc_merged_data/Final_AQS_CSN_2003_2023_BC_Data.csv\")"
   ]
  },
  {
   "cell_type": "code",
   "execution_count": 7,
   "id": "db3b77e8",
   "metadata": {},
   "outputs": [],
   "source": [
    "df[\"one_over_dist\"] = 1/df[\"fire_dist\"]\n",
    "df[\"timestamp\"] = pd.to_datetime(df[\"Date\"])\n",
    "df = df.sort_values(by=['timestamp', 'EMS_ID'])\n",
    "\n",
    "features = ['TEMP_MEAN_XB0C_DAILY', 'WDIR_UVEC_DEG_DAILY', \"WSPD_VECT_MS_DAILY\", \"one_over_dist\", \"Season\", \"smoke_score\", \"log_PM25\"]\n",
    "df_pivoted = df.pivot(index='timestamp', columns='EMS_ID', values = features)\n",
    "df_pivoted.columns = [f'station{s}_{f}' for s, f in df_pivoted.columns]\n",
    "df_2d = df_pivoted.to_numpy()"
   ]
  },
  {
   "cell_type": "code",
   "execution_count": 8,
   "id": "1162b127",
   "metadata": {},
   "outputs": [
    {
     "name": "stdout",
     "output_type": "stream",
     "text": [
      "tensor([[ 0, 10,  0, 17,  1, 38,  1,  6,  2, 36,  2,  5,  3, 12,  3, 37,  4, 27,\n",
      "          4, 22,  5, 13,  5, 36,  6, 38,  6,  1,  7, 37,  7, 12,  8,  9,  8, 15,\n",
      "          9,  8,  9, 15, 10,  0, 10, 17, 11,  3, 11, 12, 12, 37, 12,  7, 13,  5,\n",
      "         13, 36, 14, 34, 14, 10, 15,  8, 15,  9, 16,  1, 16, 38, 17, 10, 17,  0,\n",
      "         18, 33, 18, 31, 19, 30, 19, 20, 20, 19, 20, 30, 21, 23, 21, 22, 22, 23,\n",
      "         22, 21, 23, 22, 23, 21, 24, 32, 24, 39, 25, 26, 25, 31, 26, 25, 26, 31,\n",
      "         27,  4, 27, 22, 28, 34, 28, 14, 29,  6, 29,  1, 30, 19, 30, 20, 31, 33,\n",
      "         31, 18, 32, 39, 32, 24, 33, 18, 33, 31, 34, 14, 34, 10, 35,  9, 35,  8,\n",
      "         36,  5, 36, 13, 37,  7, 37, 12, 38,  1, 38,  6, 39, 32, 39, 24],\n",
      "        [10,  0, 17,  0, 38,  1,  6,  1, 36,  2,  5,  2, 12,  3, 37,  3, 27,  4,\n",
      "         22,  4, 13,  5, 36,  5, 38,  6,  1,  6, 37,  7, 12,  7,  9,  8, 15,  8,\n",
      "          8,  9, 15,  9,  0, 10, 17, 10,  3, 11, 12, 11, 37, 12,  7, 12,  5, 13,\n",
      "         36, 13, 34, 14, 10, 14,  8, 15,  9, 15,  1, 16, 38, 16, 10, 17,  0, 17,\n",
      "         33, 18, 31, 18, 30, 19, 20, 19, 19, 20, 30, 20, 23, 21, 22, 21, 23, 22,\n",
      "         21, 22, 22, 23, 21, 23, 32, 24, 39, 24, 26, 25, 31, 25, 25, 26, 31, 26,\n",
      "          4, 27, 22, 27, 34, 28, 14, 28,  6, 29,  1, 29, 19, 30, 20, 30, 33, 31,\n",
      "         18, 31, 39, 32, 24, 32, 18, 33, 31, 33, 14, 34, 10, 34,  9, 35,  8, 35,\n",
      "          5, 36, 13, 36,  7, 37, 12, 37,  1, 38,  6, 38, 32, 39, 24, 39]])\n"
     ]
    }
   ],
   "source": [
    "stations = pd.Series(list(zip(df['Latitude'].round(3), df['Longitude'].round(3))))\n",
    "stations = np.array(stations.drop_duplicates().reset_index(drop=True).tolist())\n",
    "stations_rad = np.radians(stations)\n",
    "dist_matrix_km = haversine_distances(stations_rad) * 6371\n",
    "\n",
    "k = 2\n",
    "nbrs = NearestNeighbors(n_neighbors=k+1, metric='precomputed').fit(dist_matrix_km)\n",
    "_, indices = nbrs.kneighbors(dist_matrix_km)\n",
    "\n",
    "edges = []\n",
    "for i, neighbors in enumerate(indices):\n",
    "    for j in neighbors[1:]:  # skip self-loop\n",
    "        edges.append([i, j])\n",
    "        edges.append([j, i])  # make it undirected\n",
    "\n",
    "edge_index = torch.tensor(edges).T  # shape: [2, num_edges]\n",
    "\n",
    "print(edge_index)"
   ]
  },
  {
   "cell_type": "code",
   "execution_count": 9,
   "id": "7a99c6f4",
   "metadata": {},
   "outputs": [],
   "source": [
    "num_stations = len(stations)\n",
    "num_features = len(features)\n",
    "time_steps = len(df_pivoted)\n",
    "\n",
    "df_3d = df_2d.reshape(time_steps, num_stations, num_features)"
   ]
  },
  {
   "cell_type": "code",
   "execution_count": 10,
   "id": "c695a30b",
   "metadata": {},
   "outputs": [],
   "source": [
    "target_index = 6\n",
    "x_np, y_np = split_features_target(df_3d, target_index=target_index)"
   ]
  },
  {
   "cell_type": "code",
   "execution_count": 15,
   "id": "4064944b",
   "metadata": {},
   "outputs": [
    {
     "ename": "RuntimeError",
     "evalue": "[enforce fail at alloc_cpu.cpp:114] data. DefaultCPUAllocator: not enough memory: you tried to allocate 20444476344 bytes.",
     "output_type": "error",
     "traceback": [
      "\u001b[1;31m---------------------------------------------------------------------------\u001b[0m",
      "\u001b[1;31mRuntimeError\u001b[0m                              Traceback (most recent call last)",
      "Cell \u001b[1;32mIn[15], line 14\u001b[0m\n\u001b[0;32m      6\u001b[0m model \u001b[38;5;241m=\u001b[39m GCN_LSTM_Masked_Time(\n\u001b[0;32m      7\u001b[0m     in_channels\u001b[38;5;241m=\u001b[39mx\u001b[38;5;241m.\u001b[39mshape[\u001b[38;5;241m-\u001b[39m\u001b[38;5;241m1\u001b[39m],\n\u001b[0;32m      8\u001b[0m     hidden_dim\u001b[38;5;241m=\u001b[39m\u001b[38;5;241m16\u001b[39m,\n\u001b[0;32m      9\u001b[0m     lstm_hidden_dim\u001b[38;5;241m=\u001b[39m\u001b[38;5;241m32\u001b[39m,\n\u001b[0;32m     10\u001b[0m     out_dim\u001b[38;5;241m=\u001b[39m\u001b[38;5;241m1\u001b[39m,\n\u001b[0;32m     11\u001b[0m )\n\u001b[0;32m     13\u001b[0m \u001b[38;5;66;03m# Train\u001b[39;00m\n\u001b[1;32m---> 14\u001b[0m train_time(model, x, y, mask, edge_index, num_epochs\u001b[38;5;241m=\u001b[39m\u001b[38;5;241m10\u001b[39m, lr\u001b[38;5;241m=\u001b[39m\u001b[38;5;241m0.01\u001b[39m)\n\u001b[0;32m     15\u001b[0m mse \u001b[38;5;241m=\u001b[39m evaluate_mse_time(model, x, y, mask, edge_index)\n\u001b[0;32m     16\u001b[0m \u001b[38;5;28mprint\u001b[39m(\u001b[38;5;124m\"\u001b[39m\u001b[38;5;124mFinal MSE:\u001b[39m\u001b[38;5;124m\"\u001b[39m, mse)\n",
      "Cell \u001b[1;32mIn[4], line 17\u001b[0m, in \u001b[0;36mtrain_time\u001b[1;34m(model, x, y, mask, edge_index, num_epochs, lr)\u001b[0m\n\u001b[0;32m     14\u001b[0m loss \u001b[38;5;241m=\u001b[39m loss_fn(pred, y_t) \u001b[38;5;241m*\u001b[39m mask_t\n\u001b[0;32m     15\u001b[0m loss \u001b[38;5;241m=\u001b[39m loss\u001b[38;5;241m.\u001b[39msum() \u001b[38;5;241m/\u001b[39m mask_t\u001b[38;5;241m.\u001b[39msum()\n\u001b[1;32m---> 17\u001b[0m loss\u001b[38;5;241m.\u001b[39mbackward()\n\u001b[0;32m     18\u001b[0m optimizer\u001b[38;5;241m.\u001b[39mstep()\n\u001b[0;32m     19\u001b[0m \u001b[38;5;28mprint\u001b[39m(\u001b[38;5;124mf\u001b[39m\u001b[38;5;124m\"\u001b[39m\u001b[38;5;124mEpoch \u001b[39m\u001b[38;5;132;01m{\u001b[39;00mepoch\u001b[38;5;241m+\u001b[39m\u001b[38;5;241m1\u001b[39m\u001b[38;5;132;01m}\u001b[39;00m\u001b[38;5;124m/\u001b[39m\u001b[38;5;132;01m{\u001b[39;00mnum_epochs\u001b[38;5;132;01m}\u001b[39;00m\u001b[38;5;124m, Loss: \u001b[39m\u001b[38;5;132;01m{\u001b[39;00mloss\u001b[38;5;241m.\u001b[39mitem()\u001b[38;5;132;01m:\u001b[39;00m\u001b[38;5;124m.4f\u001b[39m\u001b[38;5;132;01m}\u001b[39;00m\u001b[38;5;124m\"\u001b[39m)\n",
      "File \u001b[1;32mc:\\Users\\morga\\anaconda3\\Lib\\site-packages\\torch\\_tensor.py:581\u001b[0m, in \u001b[0;36mTensor.backward\u001b[1;34m(self, gradient, retain_graph, create_graph, inputs)\u001b[0m\n\u001b[0;32m    571\u001b[0m \u001b[38;5;28;01mif\u001b[39;00m has_torch_function_unary(\u001b[38;5;28mself\u001b[39m):\n\u001b[0;32m    572\u001b[0m     \u001b[38;5;28;01mreturn\u001b[39;00m handle_torch_function(\n\u001b[0;32m    573\u001b[0m         Tensor\u001b[38;5;241m.\u001b[39mbackward,\n\u001b[0;32m    574\u001b[0m         (\u001b[38;5;28mself\u001b[39m,),\n\u001b[1;32m   (...)\u001b[0m\n\u001b[0;32m    579\u001b[0m         inputs\u001b[38;5;241m=\u001b[39minputs,\n\u001b[0;32m    580\u001b[0m     )\n\u001b[1;32m--> 581\u001b[0m torch\u001b[38;5;241m.\u001b[39mautograd\u001b[38;5;241m.\u001b[39mbackward(\n\u001b[0;32m    582\u001b[0m     \u001b[38;5;28mself\u001b[39m, gradient, retain_graph, create_graph, inputs\u001b[38;5;241m=\u001b[39minputs\n\u001b[0;32m    583\u001b[0m )\n",
      "File \u001b[1;32mc:\\Users\\morga\\anaconda3\\Lib\\site-packages\\torch\\autograd\\__init__.py:347\u001b[0m, in \u001b[0;36mbackward\u001b[1;34m(tensors, grad_tensors, retain_graph, create_graph, grad_variables, inputs)\u001b[0m\n\u001b[0;32m    342\u001b[0m     retain_graph \u001b[38;5;241m=\u001b[39m create_graph\n\u001b[0;32m    344\u001b[0m \u001b[38;5;66;03m# The reason we repeat the same comment below is that\u001b[39;00m\n\u001b[0;32m    345\u001b[0m \u001b[38;5;66;03m# some Python versions print out the first line of a multi-line function\u001b[39;00m\n\u001b[0;32m    346\u001b[0m \u001b[38;5;66;03m# calls in the traceback and some print out the last line\u001b[39;00m\n\u001b[1;32m--> 347\u001b[0m _engine_run_backward(\n\u001b[0;32m    348\u001b[0m     tensors,\n\u001b[0;32m    349\u001b[0m     grad_tensors_,\n\u001b[0;32m    350\u001b[0m     retain_graph,\n\u001b[0;32m    351\u001b[0m     create_graph,\n\u001b[0;32m    352\u001b[0m     inputs,\n\u001b[0;32m    353\u001b[0m     allow_unreachable\u001b[38;5;241m=\u001b[39m\u001b[38;5;28;01mTrue\u001b[39;00m,\n\u001b[0;32m    354\u001b[0m     accumulate_grad\u001b[38;5;241m=\u001b[39m\u001b[38;5;28;01mTrue\u001b[39;00m,\n\u001b[0;32m    355\u001b[0m )\n",
      "File \u001b[1;32mc:\\Users\\morga\\anaconda3\\Lib\\site-packages\\torch\\autograd\\graph.py:825\u001b[0m, in \u001b[0;36m_engine_run_backward\u001b[1;34m(t_outputs, *args, **kwargs)\u001b[0m\n\u001b[0;32m    823\u001b[0m     unregister_hooks \u001b[38;5;241m=\u001b[39m _register_logging_hooks_on_whole_graph(t_outputs)\n\u001b[0;32m    824\u001b[0m \u001b[38;5;28;01mtry\u001b[39;00m:\n\u001b[1;32m--> 825\u001b[0m     \u001b[38;5;28;01mreturn\u001b[39;00m Variable\u001b[38;5;241m.\u001b[39m_execution_engine\u001b[38;5;241m.\u001b[39mrun_backward(  \u001b[38;5;66;03m# Calls into the C++ engine to run the backward pass\u001b[39;00m\n\u001b[0;32m    826\u001b[0m         t_outputs, \u001b[38;5;241m*\u001b[39margs, \u001b[38;5;241m*\u001b[39m\u001b[38;5;241m*\u001b[39mkwargs\n\u001b[0;32m    827\u001b[0m     )  \u001b[38;5;66;03m# Calls into the C++ engine to run the backward pass\u001b[39;00m\n\u001b[0;32m    828\u001b[0m \u001b[38;5;28;01mfinally\u001b[39;00m:\n\u001b[0;32m    829\u001b[0m     \u001b[38;5;28;01mif\u001b[39;00m attach_logging_hooks:\n",
      "\u001b[1;31mRuntimeError\u001b[0m: [enforce fail at alloc_cpu.cpp:114] data. DefaultCPUAllocator: not enough memory: you tried to allocate 20444476344 bytes."
     ]
    }
   ],
   "source": [
    "# Prepare tensors\n",
    "seq_len=30\n",
    "x, y, mask = build_input_target_rolling(x_np, y_np, seq_len=seq_len)  # target is feature 0\n",
    "\n",
    "# Instantiate model\n",
    "model = GCN_LSTM_Masked_Time(\n",
    "    in_channels=x.shape[-1],\n",
    "    hidden_dim=16,\n",
    "    lstm_hidden_dim=32,\n",
    "    out_dim=1,\n",
    ")\n",
    "\n",
    "# Train\n",
    "train_time(model, x, y, mask, edge_index, num_epochs=10, lr=0.01)\n",
    "mse = evaluate_mse_time(model, x, y, mask, edge_index)\n",
    "print(\"Final MSE:\", mse)"
   ]
  },
  {
   "cell_type": "code",
   "execution_count": null,
   "id": "65ed96c5",
   "metadata": {},
   "outputs": [],
   "source": []
  }
 ],
 "metadata": {
  "kernelspec": {
   "display_name": "base",
   "language": "python",
   "name": "python3"
  },
  "language_info": {
   "codemirror_mode": {
    "name": "ipython",
    "version": 3
   },
   "file_extension": ".py",
   "mimetype": "text/x-python",
   "name": "python",
   "nbconvert_exporter": "python",
   "pygments_lexer": "ipython3",
   "version": "3.12.3"
  }
 },
 "nbformat": 4,
 "nbformat_minor": 5
}
